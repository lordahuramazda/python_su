{
 "cells": [
  {
   "cell_type": "markdown",
   "id": "7858cd3c-c692-4b22-a2e5-e6562ff53c67",
   "metadata": {},
   "source": [
    "#Schrödinger's cat\n",
    "In [quantum mechanics](https://en.wikipedia.org/wiki/Quantum_mechanics), Schrödinger's cat is a thought experiment concerning quantum superposition. In the thought experiment, a hypothetical cat in a closed box may be considered to be simultaneously both alive and dead while it is unobserved, as a result of its fate being linked to a random subatomic event that may or may not occur. This experiment, viewed this way, is described as a paradox. This thought experiment was devised by physicist Erwin Schrödinger in 1935[1] in a discussion with Albert Einstein[2] to illustrate what Schrödinger saw as the problems of the Copenhagen interpretation of quantum mechanics. "
   ]
  },
  {
   "cell_type": "code",
   "execution_count": 2,
   "id": "712564b5-e169-4286-8320-3ebf591054f6",
   "metadata": {},
   "outputs": [
    {
     "name": "stdout",
     "output_type": "stream",
     "text": [
      "CAT\n"
     ]
    }
   ],
   "source": [
    "print ('CAT')\n"
   ]
  },
  {
   "cell_type": "markdown",
   "id": "318546b1-1dd9-4305-8d6b-e29a58ef9fc4",
   "metadata": {},
   "source": [
    "![CAT](https://upload.wikimedia.org/wikipedia/commons/thumb/9/91/Schrodingers_cat.svg/495px-Schrodingers_cat.svg.png)"
   ]
  },
  {
   "cell_type": "markdown",
   "id": "d07a668b-ad98-44fa-8ac5-0593e1324760",
   "metadata": {},
   "source": [
    ">Schrödinger's cat: a cat, a flask of poison, and a radioactive source connected to a Geiger counter are placed in a sealed box. As illustrated, the quantum description uses a superposition of an alive cat and one that has died."
   ]
  },
  {
   "cell_type": "code",
   "execution_count": null,
   "id": "78384f83-4288-4de3-a62b-c61faaf3d65a",
   "metadata": {},
   "outputs": [],
   "source": []
  }
 ],
 "metadata": {
  "kernelspec": {
   "display_name": "Python 3 (ipykernel)",
   "language": "python",
   "name": "python3"
  },
  "language_info": {
   "codemirror_mode": {
    "name": "ipython",
    "version": 3
   },
   "file_extension": ".py",
   "mimetype": "text/x-python",
   "name": "python",
   "nbconvert_exporter": "python",
   "pygments_lexer": "ipython3",
   "version": "3.13.2"
  }
 },
 "nbformat": 4,
 "nbformat_minor": 5
}
